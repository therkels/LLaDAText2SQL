{
 "cells": [
  {
   "cell_type": "code",
   "execution_count": 1,
   "id": "97fc9027-543c-4103-8c3f-d1ccff71b9de",
   "metadata": {},
   "outputs": [],
   "source": [
    "from chat import chat"
   ]
  },
  {
   "cell_type": "code",
   "execution_count": 2,
   "id": "08c01781-eb4d-41fe-a9bc-8d95925cd155",
   "metadata": {},
   "outputs": [
    {
     "name": "stdout",
     "output_type": "stream",
     "text": [
      "/home/therkels/.conda/envs/myenv311/bin/python\n",
      "True\n"
     ]
    }
   ],
   "source": [
    "import sys\n",
    "print(sys.executable)\n",
    "import torch\n",
    "print(torch.cuda.is_available())  # Should print True\n",
    "\n"
   ]
  },
  {
   "cell_type": "code",
   "execution_count": 6,
   "id": "a93ab97e-ebc9-4484-b5d1-cce119d1d8cf",
   "metadata": {},
   "outputs": [
    {
     "data": {
      "application/vnd.jupyter.widget-view+json": {
       "model_id": "55e75ea4b2bd4bd28fa3b3fbfe5f9eea",
       "version_major": 2,
       "version_minor": 0
      },
      "text/plain": [
       "config.json: 0.00B [00:00, ?B/s]"
      ]
     },
     "metadata": {},
     "output_type": "display_data"
    },
    {
     "data": {
      "application/vnd.jupyter.widget-view+json": {
       "model_id": "5761194fae7e4e62beb72d246f68d717",
       "version_major": 2,
       "version_minor": 0
      },
      "text/plain": [
       "configuration_llada.py: 0.00B [00:00, ?B/s]"
      ]
     },
     "metadata": {},
     "output_type": "display_data"
    },
    {
     "name": "stderr",
     "output_type": "stream",
     "text": [
      "A new version of the following files was downloaded from https://huggingface.co/GSAI-ML/LLaDA-1.5:\n",
      "- configuration_llada.py\n",
      ". Make sure to double-check they do not contain any added malicious code. To avoid downloading new versions of the code file, you can pin a revision.\n"
     ]
    },
    {
     "data": {
      "application/vnd.jupyter.widget-view+json": {
       "model_id": "b2c85306280c4ce4857dab0e3a73c6f2",
       "version_major": 2,
       "version_minor": 0
      },
      "text/plain": [
       "modeling_llada.py: 0.00B [00:00, ?B/s]"
      ]
     },
     "metadata": {},
     "output_type": "display_data"
    },
    {
     "name": "stderr",
     "output_type": "stream",
     "text": [
      "A new version of the following files was downloaded from https://huggingface.co/GSAI-ML/LLaDA-1.5:\n",
      "- modeling_llada.py\n",
      ". Make sure to double-check they do not contain any added malicious code. To avoid downloading new versions of the code file, you can pin a revision.\n"
     ]
    },
    {
     "data": {
      "application/vnd.jupyter.widget-view+json": {
       "model_id": "3262b6cf53554fd9ba1d910729757b2c",
       "version_major": 2,
       "version_minor": 0
      },
      "text/plain": [
       "model.safetensors.index.json: 0.00B [00:00, ?B/s]"
      ]
     },
     "metadata": {},
     "output_type": "display_data"
    },
    {
     "data": {
      "application/vnd.jupyter.widget-view+json": {
       "model_id": "b6cee230da1148f094e29ce5c42e12d1",
       "version_major": 2,
       "version_minor": 0
      },
      "text/plain": [
       "Fetching 6 files:   0%|          | 0/6 [00:00<?, ?it/s]"
      ]
     },
     "metadata": {},
     "output_type": "display_data"
    },
    {
     "data": {
      "application/vnd.jupyter.widget-view+json": {
       "model_id": "4da34ff7ff964ec490cd6a3b62f0adfd",
       "version_major": 2,
       "version_minor": 0
      },
      "text/plain": [
       "model-00002-of-00006.safetensors:   0%|          | 0.00/2.99G [00:00<?, ?B/s]"
      ]
     },
     "metadata": {},
     "output_type": "display_data"
    },
    {
     "data": {
      "application/vnd.jupyter.widget-view+json": {
       "model_id": "00b2d4cb953841a988f790958a4d5b77",
       "version_major": 2,
       "version_minor": 0
      },
      "text/plain": [
       "model-00005-of-00006.safetensors:   0%|          | 0.00/2.95G [00:00<?, ?B/s]"
      ]
     },
     "metadata": {},
     "output_type": "display_data"
    },
    {
     "data": {
      "application/vnd.jupyter.widget-view+json": {
       "model_id": "f3e60d43b6784270a87f9cea7015220a",
       "version_major": 2,
       "version_minor": 0
      },
      "text/plain": [
       "model-00003-of-00006.safetensors:   0%|          | 0.00/2.95G [00:00<?, ?B/s]"
      ]
     },
     "metadata": {},
     "output_type": "display_data"
    },
    {
     "data": {
      "application/vnd.jupyter.widget-view+json": {
       "model_id": "133e6718e67a4cb1bb79bcf2bf831a7d",
       "version_major": 2,
       "version_minor": 0
      },
      "text/plain": [
       "model-00004-of-00006.safetensors:   0%|          | 0.00/2.92G [00:00<?, ?B/s]"
      ]
     },
     "metadata": {},
     "output_type": "display_data"
    },
    {
     "data": {
      "application/vnd.jupyter.widget-view+json": {
       "model_id": "cf65261a8b3b4cd0b35e5c7ddc808c5d",
       "version_major": 2,
       "version_minor": 0
      },
      "text/plain": [
       "model-00001-of-00006.safetensors:   0%|          | 0.00/2.98G [00:00<?, ?B/s]"
      ]
     },
     "metadata": {},
     "output_type": "display_data"
    },
    {
     "data": {
      "application/vnd.jupyter.widget-view+json": {
       "model_id": "af11b3cdd6124bbb9072cf9f0d1aba0b",
       "version_major": 2,
       "version_minor": 0
      },
      "text/plain": [
       "model-00006-of-00006.safetensors:   0%|          | 0.00/1.24G [00:00<?, ?B/s]"
      ]
     },
     "metadata": {},
     "output_type": "display_data"
    },
    {
     "data": {
      "application/vnd.jupyter.widget-view+json": {
       "model_id": "53b5c3bddc48445394fa683560542c1e",
       "version_major": 2,
       "version_minor": 0
      },
      "text/plain": [
       "Loading checkpoint shards:   0%|          | 0/6 [00:00<?, ?it/s]"
      ]
     },
     "metadata": {},
     "output_type": "display_data"
    },
    {
     "data": {
      "application/vnd.jupyter.widget-view+json": {
       "model_id": "38f87017ecbf44d59063838f30157afb",
       "version_major": 2,
       "version_minor": 0
      },
      "text/plain": [
       "generation_config.json:   0%|          | 0.00/128 [00:00<?, ?B/s]"
      ]
     },
     "metadata": {},
     "output_type": "display_data"
    },
    {
     "data": {
      "application/vnd.jupyter.widget-view+json": {
       "model_id": "cef7225d99f14449b37cb0d890ece4e4",
       "version_major": 2,
       "version_minor": 0
      },
      "text/plain": [
       "tokenizer_config.json: 0.00B [00:00, ?B/s]"
      ]
     },
     "metadata": {},
     "output_type": "display_data"
    },
    {
     "data": {
      "application/vnd.jupyter.widget-view+json": {
       "model_id": "5ab6bca8222545dd8d78e4e48d5bcf08",
       "version_major": 2,
       "version_minor": 0
      },
      "text/plain": [
       "tokenizer.json: 0.00B [00:00, ?B/s]"
      ]
     },
     "metadata": {},
     "output_type": "display_data"
    },
    {
     "data": {
      "application/vnd.jupyter.widget-view+json": {
       "model_id": "8e58480b0c31455496137ddc6ee9f570",
       "version_major": 2,
       "version_minor": 0
      },
      "text/plain": [
       "special_tokens_map.json:   0%|          | 0.00/747 [00:00<?, ?B/s]"
      ]
     },
     "metadata": {},
     "output_type": "display_data"
    },
    {
     "name": "stdout",
     "output_type": "stream",
     "text": [
      "******************************************************************\n",
      "**  Answer Length: 128  |  Sampling Steps: 128  **\n",
      "******************************************************************\n"
     ]
    }
   ],
   "source": [
    "import torch\n",
    "from generate import generate\n",
    "from transformers import AutoTokenizer, AutoModel\n",
    "\n",
    "device = \"cuda\"\n",
    "model = AutoModel.from_pretrained('GSAI-ML/LLaDA-1.5', trust_remote_code=True, dtype=torch.bfloat16).to(device).eval()\n",
    "tokenizer = AutoTokenizer.from_pretrained('GSAI-ML/LLaDA-1.5', trust_remote_code=True)\n",
    "\n",
    "gen_length = 128\n",
    "steps = 128\n",
    "conversation_num = 0\n",
    "prompt = None\n",
    "\n",
    "print('*' * 66)\n",
    "print(f'**  Answer Length: {gen_length}  |  Sampling Steps: {steps}  **')\n",
    "\n",
    "print('*' * 66)"
   ]
  },
  {
   "cell_type": "code",
   "execution_count": 7,
   "id": "b223b932-a75e-4e92-85f8-1bfc20404ee1",
   "metadata": {},
   "outputs": [
    {
     "name": "stdout",
     "output_type": "stream",
     "text": [
      "Bot's reply: Sure, I can help you generate meaningful SQL queries. Please provide the context or the specific problem you need the SQL to solve. For example, are you looking to retrieve data from a database, update a specific record, or perform some other operation?\n",
      "-----------------------------------------------------------------------\n"
     ]
    }
   ],
   "source": [
    "user_input = \"Generate SQL that is meaningful\"\n",
    "\n",
    "m = [{\"role\": \"user\", \"content\": user_input}]\n",
    "user_input_tpl = tokenizer.apply_chat_template(m, add_generation_prompt=True, tokenize=False)\n",
    "input_ids = tokenizer(user_input_tpl)['input_ids']\n",
    "input_ids = torch.tensor(input_ids).to(device).unsqueeze(0)\n",
    "\n",
    "if conversation_num == 0 or prompt is None:\n",
    "    prompt = input_ids\n",
    "else:\n",
    "    prompt = torch.cat([prompt, input_ids[:, 1:],], dim=1)\n",
    "\n",
    "out = generate(model, prompt, steps=steps, gen_length=gen_length, block_length=32, temperature=0., cfg_scale=0., remasking='low_confidence')\n",
    "\n",
    "answer = tokenizer.batch_decode(out[:, prompt.shape[1]:], skip_special_tokens=True)[0]\n",
    "print(f\"Bot's reply: {answer}\")\n",
    "\n",
    "# Remove EOS\n",
    "prompt = out[out != 126081].unsqueeze(0)\n",
    "conversation_num += 1\n",
    "print('-----------------------------------------------------------------------')"
   ]
  },
  {
   "cell_type": "code",
   "execution_count": null,
   "id": "1b7c81ed-1d96-404f-9d37-87b2cc2f22cd",
   "metadata": {},
   "outputs": [],
   "source": []
  }
 ],
 "metadata": {
  "kernelspec": {
   "display_name": "conda:myenv311",
   "language": "python",
   "name": "myenv31"
  },
  "language_info": {
   "codemirror_mode": {
    "name": "ipython",
    "version": 3
   },
   "file_extension": ".py",
   "mimetype": "text/x-python",
   "name": "python",
   "nbconvert_exporter": "python",
   "pygments_lexer": "ipython3",
   "version": "3.14.0"
  }
 },
 "nbformat": 4,
 "nbformat_minor": 5
}
